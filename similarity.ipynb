{
 "cells": [
  {
   "cell_type": "code",
   "execution_count": null,
   "id": "45efa408",
   "metadata": {},
   "outputs": [],
   "source": [
    "# using dataframes stored in /dfs, compute cosine similarity between each left ADMN sensory neuron"
   ]
  }
 ],
 "metadata": {
  "language_info": {
   "name": "python"
  }
 },
 "nbformat": 4,
 "nbformat_minor": 5
}
