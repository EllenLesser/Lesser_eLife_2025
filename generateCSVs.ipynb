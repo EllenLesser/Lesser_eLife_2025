{
 "cells": [
  {
   "cell_type": "code",
   "execution_count": null,
   "id": "6c5f1e1f",
   "metadata": {},
   "outputs": [],
   "source": [
    "# generate CSVs of cell types and connectivity from CAVE tables in FANC.\n",
    "# requires FANC tolken, but resulting CSVs will be stored in /CSVs and used for all further analyses "
   ]
  }
 ],
 "metadata": {
  "language_info": {
   "name": "python"
  }
 },
 "nbformat": 4,
 "nbformat_minor": 5
}
